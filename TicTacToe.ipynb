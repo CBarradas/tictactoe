{
 "cells": [
  {
   "cell_type": "code",
   "execution_count": 1,
   "id": "a551c3f2",
   "metadata": {},
   "outputs": [],
   "source": [
    "#1.Print out the board\n",
    "from IPython.display import clear_output\n",
    "def display_board(board):\n",
    "    clear_output()\n",
    "    \n",
    "    print(board[7] + '|' + board[8] + '|' + board[9])\n",
    "    print(board[4] + '|' + board[5] + '|' + board[6])\n",
    "    print(board[1] + '|' + board[2] + '|' + board[3])"
   ]
  },
  {
   "cell_type": "code",
   "execution_count": 2,
   "id": "2ff4482d",
   "metadata": {},
   "outputs": [
    {
     "name": "stdout",
     "output_type": "stream",
     "text": [
      " | | \n",
      " | | \n",
      " | | \n"
     ]
    }
   ],
   "source": [
    "#test\n",
    "test_board= ['#', ' ', ' ', ' ', ' ', ' ', ' ', ' ', ' ', ' ']\n",
    "display_board(test_board)"
   ]
  },
  {
   "cell_type": "code",
   "execution_count": null,
   "id": "1ef72359",
   "metadata": {},
   "outputs": [],
   "source": [
    "#2.Assign markers X and O to players 1 and 2\n",
    "def player_input():\n",
    "    marker= ''\n",
    "    \n",
    "    while not (marker == 'X' and marker == \"O\"):\n",
    "        marker = input('Player 1: Choose X or O: ').upper()\n",
    "    \n",
    "    if marker == 'X':\n",
    "        return('X', 'O')\n",
    "    else:\n",
    "        return('O', 'X')"
   ]
  },
  {
   "cell_type": "code",
   "execution_count": null,
   "id": "2f29bf8c",
   "metadata": {},
   "outputs": [],
   "source": [
    "#test\n",
    "player_input()"
   ]
  },
  {
   "cell_type": "code",
   "execution_count": 4,
   "id": "1a1731b8",
   "metadata": {},
   "outputs": [],
   "source": [
    "#3.Position the marker in the board\n",
    "def place_marker(board, marker, position):\n",
    "    board[position]=marker"
   ]
  },
  {
   "cell_type": "code",
   "execution_count": null,
   "id": "1667b571",
   "metadata": {},
   "outputs": [],
   "source": [
    "#test\n",
    "place_marker(test_board, '$', 8)\n",
    "display_board(test_board)"
   ]
  },
  {
   "cell_type": "code",
   "execution_count": 5,
   "id": "0680d698",
   "metadata": {},
   "outputs": [],
   "source": [
    "#4.Check if the game has been won\n",
    "def win_check(board, mark):\n",
    "    return((board[7]==board[8]==board[9]==mark) or\n",
    "    (board[4]==board[5]==board[6]==mark) or\n",
    "    (board[1]==board[2]==board[3]==mark) or\n",
    "    (board[7]==board[4]==board[1]==mark) or\n",
    "    (board[8]==board[5]==board[2]==mark) or\n",
    "    (board[9]==board[6]==board[3]==mark) or\n",
    "    (board[1]==board[5]==board[9]==mark) or\n",
    "    (board[7]==board[5]==board[3]==mark))"
   ]
  },
  {
   "cell_type": "code",
   "execution_count": null,
   "id": "350e4bab",
   "metadata": {},
   "outputs": [],
   "source": [
    "#test\n",
    "display_board(test_board)\n",
    "win_check(test_board, 'X')"
   ]
  },
  {
   "cell_type": "code",
   "execution_count": null,
   "id": "9a1a2df6",
   "metadata": {},
   "outputs": [],
   "source": [
    "#5.Assign which player goes first\n",
    "import random\n",
    "def choose_first():\n",
    "    if random.randint(0,1)==0:\n",
    "        return 'Player 1'\n",
    "    else:\n",
    "        return 'Player 2'\n",
    "        "
   ]
  },
  {
   "cell_type": "code",
   "execution_count": null,
   "id": "d819211a",
   "metadata": {},
   "outputs": [],
   "source": [
    "#test\n",
    "choose_first()"
   ]
  },
  {
   "cell_type": "code",
   "execution_count": 7,
   "id": "28b9af50",
   "metadata": {},
   "outputs": [],
   "source": [
    "#6.Check if there is still free space in the board\n",
    "def space_check(board, position):\n",
    "    return board[position]== ' '\n"
   ]
  },
  {
   "cell_type": "code",
   "execution_count": null,
   "id": "a9b73bb7",
   "metadata": {},
   "outputs": [],
   "source": [
    "#test\n",
    "space_check(test_board, 5)"
   ]
  },
  {
   "cell_type": "code",
   "execution_count": 8,
   "id": "f0022884",
   "metadata": {},
   "outputs": [],
   "source": [
    "#7.Check if the board is full\n",
    "def full_board(board):\n",
    "    for i in range(1,10):\n",
    "        if space_check(board, i):\n",
    "            return False\n",
    "    return True"
   ]
  },
  {
   "cell_type": "code",
   "execution_count": null,
   "id": "ff20bb10",
   "metadata": {},
   "outputs": [],
   "source": [
    "#test\n",
    "full_board(test_board)"
   ]
  },
  {
   "cell_type": "code",
   "execution_count": 9,
   "id": "a932fd84",
   "metadata": {},
   "outputs": [],
   "source": [
    "#8.Ask the player's next position, check if it is free and place it\n",
    "def player_choice(board):\n",
    "    position = 0\n",
    "    while position not in [1,2,3,4,5,6,7,8,9] or not space_check(board, position):\n",
    "        position=int(input('Choose your next position(1-9)'))\n",
    "    return position"
   ]
  },
  {
   "cell_type": "code",
   "execution_count": null,
   "id": "f42f2e74",
   "metadata": {},
   "outputs": [],
   "source": [
    "#test\n",
    "player_choice(test_board)"
   ]
  },
  {
   "cell_type": "code",
   "execution_count": 10,
   "id": "715b6c9f",
   "metadata": {},
   "outputs": [],
   "source": [
    "#9.Check for game to continue\n",
    "def replay():\n",
    "    return input('Keep playing? Y or N').lower().startswith ('y')"
   ]
  },
  {
   "cell_type": "code",
   "execution_count": null,
   "id": "fbc702ba",
   "metadata": {},
   "outputs": [],
   "source": [
    "#test\n",
    "replay()"
   ]
  },
  {
   "cell_type": "code",
   "execution_count": null,
   "id": "cb10d628",
   "metadata": {},
   "outputs": [
    {
     "name": "stdout",
     "output_type": "stream",
     "text": [
      " | | \n",
      " | | \n",
      "O| | \n"
     ]
    }
   ],
   "source": [
    "#10.Run the game\n",
    "\n",
    "print ('Welcome to Tic Tac Toe!')\n",
    "#keep running the game\n",
    "while True:\n",
    "    ##set the game(board, players, markers)\n",
    "    the_board = [' '] * 10\n",
    "    player1_marker, player2_marker = player_input()\n",
    "    turn = choose_first()\n",
    "    print(turn + ' will go first!')\n",
    "    \n",
    "    play_game = input('Are you ready to play? Enter Yes or No.')\n",
    "    \n",
    "    if play_game.lower()[0] == 'y':\n",
    "        game_on = True\n",
    "    else:\n",
    "        game_on = False\n",
    "        \n",
    "    ##play game\n",
    "    while game_on:\n",
    "        if turn == 'Player1':\n",
    "            ###show the board\n",
    "            display_board(the_board)\n",
    "            ###choose a position\n",
    "            position = player_choice(the_board)\n",
    "            ###place the marker in position\n",
    "            place_marker(the_board, player1_marker, position)\n",
    "            ###check if win\n",
    "            if win_check(the_board, player1_marker):\n",
    "                display_board(the_board)\n",
    "                print('Player 1 has won!')\n",
    "                game_on = False\n",
    "            ###check if tie\n",
    "            else:\n",
    "                if full_board(the_board):\n",
    "                    display_board(the_board)\n",
    "                    print ('Game tied!')\n",
    "                    game_on = False\n",
    "                    break\n",
    "                else:\n",
    "                    turn= \"Player2\"\n",
    "        ##no win or tie, go to player 2\n",
    "        else:\n",
    "            ###show the board\n",
    "                display_board(the_board)\n",
    "            ###choose a position\n",
    "                position = player_choice(the_board)\n",
    "            ###place the marker in position\n",
    "                place_marker(the_board, player2_marker, position)\n",
    "            ###check if win\n",
    "                if win_check(the_board, player2_marker):\n",
    "                    display_board(the_board)\n",
    "                    print('Player 2 has won!')\n",
    "                    game_on = False\n",
    "            ###check if tie\n",
    "                else:\n",
    "                    if full_board(the_board):\n",
    "                        display_board(the_board)\n",
    "                        print ('Game tied!')\n",
    "                        break\n",
    "                    else:\n",
    "                        turn= \"Player1\"\n",
    "#end the game\n",
    "    if not replay():\n",
    "        break"
   ]
  },
  {
   "cell_type": "code",
   "execution_count": null,
   "id": "ccadf944",
   "metadata": {},
   "outputs": [],
   "source": []
  }
 ],
 "metadata": {
  "kernelspec": {
   "display_name": "Python 3 (ipykernel)",
   "language": "python",
   "name": "python3"
  },
  "language_info": {
   "codemirror_mode": {
    "name": "ipython",
    "version": 3
   },
   "file_extension": ".py",
   "mimetype": "text/x-python",
   "name": "python",
   "nbconvert_exporter": "python",
   "pygments_lexer": "ipython3",
   "version": "3.9.7"
  }
 },
 "nbformat": 4,
 "nbformat_minor": 5
}
